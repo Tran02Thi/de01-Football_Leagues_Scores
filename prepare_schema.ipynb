{
 "cells": [
  {
   "cell_type": "code",
   "execution_count": 16,
   "id": "556742b1",
   "metadata": {},
   "outputs": [],
   "source": [
    "import pandas as pd\n",
    "import pyspark\n",
    "from pyspark.sql import SparkSession\n",
    "from pyspark.sql import types\n",
    "from jinja2 import Template"
   ]
  },
  {
   "cell_type": "code",
   "execution_count": 2,
   "id": "71962921",
   "metadata": {},
   "outputs": [],
   "source": [
    "spark = SparkSession.builder \\\n",
    "            .master(\"local[*]\") \\\n",
    "            .appName(\"ingestion\") \\\n",
    "            .getOrCreate()"
   ]
  },
  {
   "cell_type": "code",
   "execution_count": 147,
   "id": "82dc593f",
   "metadata": {},
   "outputs": [],
   "source": [
    "df_pandas = \"\"\n",
    "schema = \"\""
   ]
  },
  {
   "cell_type": "markdown",
   "id": "5dff0a85",
   "metadata": {},
   "source": [
    "## Create Schema of Table\n"
   ]
  },
  {
   "cell_type": "markdown",
   "id": "8f29a7ee",
   "metadata": {},
   "source": [
    "#### Define path of file csv"
   ]
  },
  {
   "cell_type": "code",
   "execution_count": 158,
   "id": "8607b187",
   "metadata": {},
   "outputs": [],
   "source": [
    "tables_path = {\n",
    "        'appearances' : \"transfermarkt/appearances.csv\",\n",
    "        'club_games' : \"transfermarkt/club_games.csv\",\n",
    "        'clubs' : \"transfermarkt/clubs.csv\",\n",
    "        'competitions' : \"transfermarkt/competitions.csv\",\n",
    "        'game_events' : \"transfermarkt/game_events.csv\",\n",
    "        'game_lineups' : \"transfermarkt/game_lineups.csv\",\n",
    "        'games' : \"transfermarkt/games.csv\",\n",
    "        'player_valuations' : \"transfermarkt/player_valuations.csv\",\n",
    "        'players' : \"transfermarkt/players.csv\"\n",
    "    }"
   ]
  },
  {
   "cell_type": "markdown",
   "id": "e07d93c6",
   "metadata": {},
   "source": [
    "#### Generate StructType from Spark"
   ]
  },
  {
   "cell_type": "code",
   "execution_count": 6,
   "id": "86bb3cfe",
   "metadata": {},
   "outputs": [
    {
     "data": {
      "text/plain": [
       "StructType([StructField('appearance_id', StringType(), True), StructField('game_id', LongType(), True), StructField('player_id', LongType(), True), StructField('player_club_id', LongType(), True), StructField('player_current_club_id', LongType(), True), StructField('date', StringType(), True), StructField('player_name', StringType(), True), StructField('competition_id', StringType(), True), StructField('yellow_cards', LongType(), True), StructField('red_cards', LongType(), True), StructField('goals', LongType(), True), StructField('assists', LongType(), True), StructField('minutes_played', LongType(), True)])"
      ]
     },
     "execution_count": 6,
     "metadata": {},
     "output_type": "execute_result"
    }
   ],
   "source": [
    "df_pandas = spark.read \\\n",
    "                .option(\"header\", \"true\") \\\n",
    "                .csv(path=tables_path[\"appearances\"])\n",
    "\n",
    "spark.createDataFrame(df_pandas).schema"
   ]
  },
  {
   "cell_type": "markdown",
   "id": "091c8483",
   "metadata": {},
   "source": [
    "##### Rewrite schema type \n",
    "```python\n",
    "types.StructType([\n",
    "    types.StructField('appearance_id', types.StringType(), True), \n",
    "    types.StructField('game_id', types.LongType(), True), \n",
    "    types.StructField('player_id', types.LongType(), True), \n",
    "    types.StructField('player_club_id', types.LongType(), True), \n",
    "    types.StructField('player_current_club_id', types.LongType(), True), \n",
    "    types.StructField('date', types.StringType(), True), \n",
    "    types.StructField('player_name', types.StringType(), True), \n",
    "    types.StructField('competition_id', types.StringType(), True), \n",
    "    types.StructField('yellow_cards', types.LongType(), True), \n",
    "    types.StructField('red_cards', types.LongType(), True), \n",
    "    types.StructField('goals', types.LongType(), True), \n",
    "    types.StructField('assists', types.LongType(), True), \n",
    "    types.StructField('minutes_played', types.LongType(), True)\n",
    "]) \n",
    "```"
   ]
  },
  {
   "cell_type": "code",
   "execution_count": 140,
   "id": "20b11db3",
   "metadata": {},
   "outputs": [],
   "source": [
    "schema = types.StructType([\n",
    "    types.StructField('appearance_id', types.StringType(), True), \n",
    "    types.StructField('game_id', types.LongType(), True), \n",
    "    types.StructField('player_id', types.LongType(), True), \n",
    "    types.StructField('player_club_id', types.LongType(), True), \n",
    "    types.StructField('player_current_club_id', types.LongType(), True), \n",
    "    types.StructField('date', types.StringType(), True), \n",
    "    types.StructField('player_name', types.StringType(), True), \n",
    "    types.StructField('competition_id', types.StringType(), True), \n",
    "    types.StructField('yellow_cards', types.LongType(), True), \n",
    "    types.StructField('red_cards', types.LongType(), True), \n",
    "    types.StructField('goals', types.LongType(), True), \n",
    "    types.StructField('assists', types.LongType(), True), \n",
    "    types.StructField('minutes_played', types.LongType(), True)\n",
    "])\n",
    "\n",
    "df = spark.read \\\n",
    "        .option(\"header\", \"true\") \\\n",
    "        .schema(schema) \\\n",
    "        .csv(\"transfermarkt/appearances.csv\")"
   ]
  },
  {
   "cell_type": "markdown",
   "id": "2c859307",
   "metadata": {},
   "source": [
    "#### Generate Schema from CSV file"
   ]
  },
  {
   "cell_type": "code",
   "execution_count": null,
   "id": "845f5e1c",
   "metadata": {},
   "outputs": [],
   "source": [
    "def generateSchemaFromCSV(spark, path_file):\n",
    "    df_pandas = pd.read_csv(path_file, nrows=5) #  only read symbolic 5  rows to get the schema of csv file\n",
    "    schema = spark.createDataFrame(df_pandas).schema\n",
    "    return schema"
   ]
  },
  {
   "cell_type": "code",
   "execution_count": 56,
   "id": "93a800b6",
   "metadata": {},
   "outputs": [],
   "source": [
    "def convert_type(data_type):\n",
    "    if data_type == types.StringType():\n",
    "        return 'VARCHAR(155)'\n",
    "    elif data_type == types.LongType():\n",
    "        return 'BIGINT'\n",
    "    elif data_type == types.DoubleType():\n",
    "        return 'DOUBLE'\n",
    "    else:\n",
    "        return 'UNKNOWN'"
   ]
  },
  {
   "cell_type": "code",
   "execution_count": 142,
   "id": "4d721fb1",
   "metadata": {
    "scrolled": true
   },
   "outputs": [],
   "source": [
    "\n",
    "def generateStatementCreate(schema, table_name):\n",
    "\n",
    "    template = Template('''\n",
    "DROP TABLE IF EXISTS {{ table_name }};\n",
    "CREATE TABLE {{ table_name  }} (\n",
    "    {% for column in columns -%}\n",
    "    {{ column.name }} {{ convert_type(column.dataType) }}{% if not loop.last %},{% endif %}\n",
    "    {% endfor -%}\n",
    ");\n",
    "''')\n",
    "    \n",
    "    fields = schema.fields\n",
    "    stm_create_table = template.render(columns=fields, convert_type=convert_type, table_name=table_name)\n",
    "    return stm_create_table"
   ]
  },
  {
   "cell_type": "code",
   "execution_count": null,
   "id": "ea4dda9b",
   "metadata": {},
   "outputs": [],
   "source": [
    "schema = generateSchemaFromCSV(spark, tables_path['players'])\n",
    "players = generateStatementCreate(schema=schema, table_name='players')\n",
    "players"
   ]
  },
  {
   "cell_type": "markdown",
   "id": "d4062ee7",
   "metadata": {},
   "source": [
    "#### **Table players**\n",
    "``` sql\n",
    "DROP TABLE IF EXISTS players;\n",
    "CREATE TABLE players (\n",
    "     player_id BIGINT,\n",
    "     first_name VARCHAR(155),\n",
    "     last_name VARCHAR(155),\n",
    "     name VARCHAR(155),\n",
    "     last_season BIGINT,\n",
    "     current_club_id BIGINT,\n",
    "     player_code VARCHAR(155),\n",
    "     country_of_birth VARCHAR(155),\n",
    "     city_of_birth VARCHAR(155),\n",
    "     country_of_citizenship VARCHAR(155),\n",
    "     date_of_birth VARCHAR(155),\n",
    "     sub_position VARCHAR(155),\n",
    "     position VARCHAR(155),\n",
    "     foot VARCHAR(155),\n",
    "     height_in_cm DOUBLE,\n",
    "     contract_expiration_date DOUBLE,\n",
    "     agent_name VARCHAR(155),\n",
    "     image_url VARCHAR(155),\n",
    "     url VARCHAR(155),\n",
    "     current_club_domestic_competition_id VARCHAR(155),\n",
    "     current_club_name VARCHAR(155),\n",
    "     market_value_in_eur BIGINT,\n",
    "     highest_market_value_in_eur BIGINT\n",
    "     ); \n",
    "```"
   ]
  },
  {
   "cell_type": "code",
   "execution_count": null,
   "id": "f3e787e8",
   "metadata": {},
   "outputs": [],
   "source": []
  },
  {
   "cell_type": "code",
   "execution_count": null,
   "id": "e229117f",
   "metadata": {},
   "outputs": [],
   "source": []
  }
 ],
 "metadata": {
  "kernelspec": {
   "display_name": "Python 3 (ipykernel)",
   "language": "python",
   "name": "python3"
  },
  "language_info": {
   "codemirror_mode": {
    "name": "ipython",
    "version": 3
   },
   "file_extension": ".py",
   "mimetype": "text/x-python",
   "name": "python",
   "nbconvert_exporter": "python",
   "pygments_lexer": "ipython3",
   "version": "3.10.0"
  }
 },
 "nbformat": 4,
 "nbformat_minor": 5
}
